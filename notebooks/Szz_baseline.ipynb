{
 "cells": [
  {
   "cell_type": "code",
   "execution_count": 1,
   "id": "initial_id",
   "metadata": {
    "collapsed": true,
    "ExecuteTime": {
     "end_time": "2023-11-15T19:52:42.570376Z",
     "start_time": "2023-11-15T19:52:42.508762Z"
    }
   },
   "outputs": [],
   "source": [
    "import git\n",
    "import re"
   ]
  },
  {
   "cell_type": "code",
   "execution_count": 2,
   "outputs": [],
   "source": [
    "#git diff between two commit\n",
    "def get_diff(repo_path, commit_A, commit_B):\n",
    "    repo = git.Repo(repo_path)\n",
    "    diff = repo.git.diff(commit_A, commit_B, '-U0', '--histogram')\n",
    "    return diff"
   ],
   "metadata": {
    "collapsed": false,
    "ExecuteTime": {
     "end_time": "2023-11-15T19:52:44.798858Z",
     "start_time": "2023-11-15T19:52:44.793828Z"
    }
   },
   "id": "448e5547aa32eaa9"
  },
  {
   "cell_type": "code",
   "execution_count": 3,
   "outputs": [],
   "source": [
    "#get the dictionary where the key is the file path and the value is a list of numbers of the changed lines\n",
    "def generate_changes_dict(diff_output):\n",
    "    file_path_pattern = re.compile(r'^\\+\\+\\+ b/(.*)$')\n",
    "    line_number_pattern = re.compile(r'^@@ -(\\d+)(,(\\d+))? \\+(\\d+)(,(\\d+))? @@')\n",
    "\n",
    "    result_dict = {}\n",
    "    current_file_path = None\n",
    "    numbers_list = []\n",
    "\n",
    "    diff_lines = diff_output.split('\\n')\n",
    "\n",
    "    for line in diff_lines:\n\n",
    "        file_path_match = file_path_pattern.match(line)\n",
    "        line_number_match = line_number_pattern.match(line)\n",
    "\n",
    "        if file_path_match:\n",
    "            if current_file_path and numbers_list:\n",
    "                result_dict[current_file_path] = numbers_list\n",
    "                numbers_list = []\n",
    "\n",
    "            current_file_path = file_path_match.group(1)\n",
    "        elif line_number_match:\n",
    "            start_line = int(line_number_match.group(1))\n",
    "            num_lines = 1 if line_number_match.group(3) is None else int(line_number_match.group(3))\n",
    "            \n",
    "            # Aggiungi le linee modificate solo se non sono commenti\n",
    "            if not match_comment(line):\n",
    "                numbers_list.extend(range(start_line, start_line + num_lines))\n",
    "\n",
    "    if current_file_path and numbers_list:\n",
    "        result_dict[current_file_path] = numbers_list\n",
    "\n",
    "    return result_dict\n"
   ],
   "metadata": {
    "collapsed": false,
    "ExecuteTime": {
     "end_time": "2023-11-15T19:52:45.436814Z",
     "start_time": "2023-11-15T19:52:45.432895Z"
    }
   },
   "id": "205a59f9806931d3"
  },
  {
   "cell_type": "markdown",
   "source": [
    "Funzione per non considerare le modifiche che riguardano commenti( cattura quelli su singola linea, le linee che iniziano per /* o <!– e quelle che finiscono per –!> o */"
   ],
   "metadata": {
    "collapsed": false
   },
   "id": "522792a2a7eca18d"
  },
  {
   "cell_type": "code",
   "execution_count": 4,
   "outputs": [],
   "source": [
    "def match_comment(line):\n",
    "    comment_pattern = re.compile(r'^\\s*(#|//|<!--|/\\*)|(?:.*?--!>|.*?\\*/)\\s*$')\n",
    "    \n",
    "    return comment_pattern.match(line[1:])  # Ignora il primo carattere perchè le linee iniziano per '-'"
   ],
   "metadata": {
    "collapsed": false,
    "ExecuteTime": {
     "end_time": "2023-11-15T19:52:47.107162Z",
     "start_time": "2023-11-15T19:52:47.101069Z"
    }
   },
   "id": "73ba5108b8845c5f"
  },
  {
   "cell_type": "code",
   "execution_count": 5,
   "outputs": [],
   "source": [
    "def get_candidate_commits(blame_result, file_path, changes_dict):\n",
    "    # Definisci il pattern delle espressioni regolari\n",
    "    pattern = re.compile(r'([a-f0-9]+)\\s+(\\d+)\\s+(\\d+)?(?:\\s+(\\d+))?\\nauthor\\s+([^\\n]+)')\n",
    "\n",
    "    # Inizializza il set di commit\n",
    "    commit_set = set()\n",
    "\n",
    "    # Trova tutte le corrispondenze nel testo di output\n",
    "    matches = pattern.findall(blame_result)\n",
    "\n",
    "    # Estrai le informazioni desiderate\n",
    "    for match in matches:\n",
    "        commit_hash, first_number, second_number, third_number, author = match\n",
    "        \n",
    "        # Controlla se il secondo numero è nella lista associata al percorso del file\n",
    "        if int(second_number) in changes_dict.get(file_path, []):\n",
    "            # Aggiungi le informazioni richieste al set\n",
    "            commit_set.add((commit_hash, author))\n",
    "\n",
    "    # Restituisci il set di commit\n",
    "    return commit_set"
   ],
   "metadata": {
    "collapsed": false,
    "ExecuteTime": {
     "end_time": "2023-11-15T19:52:47.536923Z",
     "start_time": "2023-11-15T19:52:47.526562Z"
    }
   },
   "id": "ce98ce7fd968f565"
  },
  {
   "cell_type": "code",
   "execution_count": 6,
   "outputs": [],
   "source": [
    "def get_all_candidate_commits(repo, parent_commit, changes_dict):\n",
    "    all_candidate_commits = set()\n",
    "\n",
    "    for file_path, line_numbers in changes_dict.items():\n",
    "        blame_result = repo.git.blame(parent_commit, file_path, \"--line-porcelain\")\n",
    "        candidate_commits = get_candidate_commits(blame_result, file_path, changes_dict)\n",
    "        all_candidate_commits = all_candidate_commits.union(candidate_commits)\n",
    "    \n",
    "    return all_candidate_commits"
   ],
   "metadata": {
    "collapsed": false,
    "ExecuteTime": {
     "end_time": "2023-11-15T19:52:48.172518Z",
     "start_time": "2023-11-15T19:52:48.165879Z"
    }
   },
   "id": "c44be54fe462509a"
  },
  {
   "cell_type": "code",
   "execution_count": 24,
   "outputs": [],
   "source": [
    "#retrieve commit from the repo\n",
    "repository_url = \"/Users/guido/Documents/Progetto/tensorflow\"\n",
    "repo = git.Repo(repository_url)\n",
    "commits = repo.iter_commits()"
   ],
   "metadata": {
    "collapsed": false,
    "ExecuteTime": {
     "end_time": "2023-11-15T20:23:09.129288Z",
     "start_time": "2023-11-15T20:23:09.106040Z"
    }
   },
   "id": "fbbc2c155abfd2dc"
  },
  {
   "cell_type": "code",
   "execution_count": 25,
   "outputs": [],
   "source": [
    "#retrieve bug fix commit\n",
    "bug_fix_commits = []\n",
    "\n",
    "for commit in commits:\n",
    "    commit_message = commit.message.lower()\n",
    "    if 'bug' in commit_message and 'fix' in commit_message:\n",
    "        bug_fix_commits.append(commit)"
   ],
   "metadata": {
    "collapsed": false,
    "ExecuteTime": {
     "end_time": "2023-11-15T20:23:12.510215Z",
     "start_time": "2023-11-15T20:23:09.638547Z"
    }
   },
   "id": "37b2d71b9cb1762e"
  },
  {
   "cell_type": "code",
   "execution_count": null,
   "outputs": [],
   "source": [
    "#retrieve only one commit and his parent\n",
    "bug_fix_commit = bug_fix_commits[0]\n",
    "parent_commit = bug_fix_commit.parents[0]"
   ],
   "metadata": {
    "collapsed": false
   },
   "id": "1967e95671587e05"
  },
  {
   "cell_type": "code",
   "execution_count": null,
   "outputs": [],
   "source": [
    "diff = get_diff(repository_url, bug_fix_commit, parent_commit)\n",
    "print(diff)"
   ],
   "metadata": {
    "collapsed": false
   },
   "id": "87b947bc398b4145"
  },
  {
   "cell_type": "code",
   "execution_count": null,
   "outputs": [],
   "source": [
    "changes_dict = generate_changes_dict(diff)\n",
    "print(changes_dict)"
   ],
   "metadata": {
    "collapsed": false
   },
   "id": "79faceb3ed46e509"
  },
  {
   "cell_type": "code",
   "execution_count": 14,
   "outputs": [],
   "source": [
    "all_candidate_commits = get_all_candidate_commits(repo, parent_commit, changes_dict)"
   ],
   "metadata": {
    "collapsed": false,
    "ExecuteTime": {
     "end_time": "2023-11-13T17:27:55.496481Z",
     "start_time": "2023-11-13T17:27:54.720408Z"
    }
   },
   "id": "1547d40b8cb3822e"
  },
  {
   "cell_type": "markdown",
   "source": [],
   "metadata": {
    "collapsed": false
   },
   "id": "5e582ce019a2fc7b"
  },
  {
   "cell_type": "code",
   "execution_count": 17,
   "outputs": [
    {
     "name": "stdout",
     "output_type": "stream",
     "text": [
      "60e827df64a757493b29756dd9cb71224a7c34bb\n",
      "Candidate commits: \n",
      "{('cf1b0378f428fedb5194083f6ba9aa708388a58d', 'Adrian Kuegel'), ('f4529e80ab30a51207901b74b438980ac8b3ceaf', 'Adrian Kuegel'), ('2f60589a4f35f09576d055ed5fa3c3df0625fc62', 'Adrian Kuegel'), ('85ac1c6ddc93d4f53ff5b2c5c1c7bac7a8a44030', 'Sergey Kozub'), ('8651f9b1a81f2568e364aa8beb969d9162cd21aa', 'Adrian Kuegel')}\n"
     ]
    }
   ],
   "source": [
    "print(bug_fix_commit)\n",
    "print(\"Candidate commits: \")\n",
    "print(all_candidate_commits)"
   ],
   "metadata": {
    "collapsed": false,
    "ExecuteTime": {
     "end_time": "2023-11-13T17:28:26.820694Z",
     "start_time": "2023-11-13T17:28:26.803486Z"
    }
   },
   "id": "411a3fc44cc168c1"
  }
 ],
 "metadata": {
  "kernelspec": {
   "display_name": "Python 3",
   "language": "python",
   "name": "python3"
  },
  "language_info": {
   "codemirror_mode": {
    "name": "ipython",
    "version": 2
   },
   "file_extension": ".py",
   "mimetype": "text/x-python",
   "name": "python",
   "nbconvert_exporter": "python",
   "pygments_lexer": "ipython2",
   "version": "2.7.6"
  }
 },
 "nbformat": 4,
 "nbformat_minor": 5
}
